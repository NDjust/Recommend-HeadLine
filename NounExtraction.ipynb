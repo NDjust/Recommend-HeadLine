{
 "cells": [
  {
   "cell_type": "code",
   "execution_count": 7,
   "metadata": {},
   "outputs": [],
   "source": [
    "import pandas as pd\n",
    "import os\n",
    "import pickle\n",
    "\n",
    "#파일 경로 설정\n",
    "os.chdir('C:\\\\Users\\\\user')\n",
    "\n",
    "#데이터 불러오기\n",
    "with open(\"clean_data.pickle\", \"rb\") as f:\n",
    "    data = pickle.load(f)"
   ]
  },
  {
   "cell_type": "code",
   "execution_count": 8,
   "metadata": {},
   "outputs": [],
   "source": [
    "#명사만 추출\n",
    "for row in range(len(data)):  \n",
    "    del_data=[]\n",
    "    for word, punc in data[row][0]:\n",
    "        if punc!=\"Noun\": del_data.append((word, punc))\n",
    "        else: pass\n",
    "    for d in del_data:\n",
    "        data[row][0].remove(d)\n",
    "        \n",
    "    del_data=[]\n",
    "    for word, punc in data[row][1]:\n",
    "        if punc!=\"Noun\": del_data.append((word, punc))\n",
    "        else: pass\n",
    "    for d in del_data:\n",
    "        data[row][1].remove(d)"
   ]
  },
  {
   "cell_type": "code",
   "execution_count": 9,
   "metadata": {},
   "outputs": [],
   "source": [
    "#품사 제거\n",
    "for row in range(len(data)):\n",
    "    append_data=[]\n",
    "    for word, punc in data[row][0]:\n",
    "        append_data.append(word)\n",
    "    data[row][0]=append_data\n",
    "    \n",
    "    append_data=[]\n",
    "    for word, punc in data[row][1]:\n",
    "        append_data.append(word)\n",
    "    data[row][1]=append_data"
   ]
  },
  {
   "cell_type": "code",
   "execution_count": 10,
   "metadata": {},
   "outputs": [],
   "source": [
    "keyword=list(pd.DataFrame(data)[0])\n",
    "\n",
    "#데이터 저장\n",
    "with open(\"keyword_real.pickle\", \"wb\") as f:\n",
    "    pickle.dump(keyword, f, pickle.HIGHEST_PROTOCOL)"
   ]
  }
 ],
 "metadata": {
  "kernelspec": {
   "display_name": "Python 3",
   "language": "python",
   "name": "python3"
  },
  "language_info": {
   "codemirror_mode": {
    "name": "ipython",
    "version": 3
   },
   "file_extension": ".py",
   "mimetype": "text/x-python",
   "name": "python",
   "nbconvert_exporter": "python",
   "pygments_lexer": "ipython3",
   "version": "3.7.3"
  }
 },
 "nbformat": 4,
 "nbformat_minor": 2
}
